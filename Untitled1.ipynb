{
 "cells": [
  {
   "cell_type": "code",
   "execution_count": 7,
   "id": "9ecdd44a-bfeb-44c0-999f-d469a3996c90",
   "metadata": {},
   "outputs": [
    {
     "name": "stdout",
     "output_type": "stream",
     "text": [
      "<spacy.lang.ja.Japanese object at 0x16c6b7730>\n",
      "アップルがイギリスの新興企業を１０億ドルで購入を検討\n",
      "['アップルがイギリスの新興企業を１０億ドルで購入を検討', '自動運転車の損害賠償責任、自動車メーカーに一定の負担を求める', '歩道を走る自動配達ロボ、サンフランシスコ市が走行禁止を検討', 'ロンドンはイギリスの大都市です。']\n"
     ]
    }
   ],
   "source": [
    "import spacy\n",
    "from spacy.lang.ja.examples import sentences \n",
    "\n",
    "nlp = spacy.load(\"ja_core_news_sm\")\n",
    "print(nlp)\n",
    "print(doc.text)\n",
    "print(sentences)\n",
    "# for token in doc:\n",
    "#     print(token.text, token.pos_, token.dep_)"
   ]
  }
 ],
 "metadata": {
  "kernelspec": {
   "display_name": "Python 3 (ipykernel)",
   "language": "python",
   "name": "python3"
  },
  "language_info": {
   "codemirror_mode": {
    "name": "ipython",
    "version": 3
   },
   "file_extension": ".py",
   "mimetype": "text/x-python",
   "name": "python",
   "nbconvert_exporter": "python",
   "pygments_lexer": "ipython3",
   "version": "3.9.12"
  }
 },
 "nbformat": 4,
 "nbformat_minor": 5
}
